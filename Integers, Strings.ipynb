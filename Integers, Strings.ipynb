{
 "cells": [
  {
   "cell_type": "code",
   "id": "initial_id",
   "metadata": {
    "collapsed": true,
    "ExecuteTime": {
     "end_time": "2025-02-10T10:57:34.898064Z",
     "start_time": "2025-02-10T10:57:34.894785Z"
    }
   },
   "source": [
    "x = 3\n",
    "y = 2\n",
    "print(x + y)\n",
    "i = x + y\n",
    "print(i)"
   ],
   "outputs": [
    {
     "name": "stdout",
     "output_type": "stream",
     "text": [
      "5\n",
      "5\n"
     ]
    }
   ],
   "execution_count": 1
  },
  {
   "metadata": {
    "ExecuteTime": {
     "end_time": "2025-02-10T10:58:21.750517Z",
     "start_time": "2025-02-10T10:58:21.748147Z"
    }
   },
   "cell_type": "code",
   "source": [
    "x = 12\n",
    "y = 4\n",
    "print(x + y)\n",
    "print(x - y)\n",
    "print(x * y)\n",
    "print(x / y)"
   ],
   "id": "477f356333be87af",
   "outputs": [
    {
     "name": "stdout",
     "output_type": "stream",
     "text": [
      "16\n",
      "8\n",
      "48\n",
      "3.0\n"
     ]
    }
   ],
   "execution_count": 2
  },
  {
   "metadata": {
    "ExecuteTime": {
     "end_time": "2025-02-10T11:02:35.300439Z",
     "start_time": "2025-02-10T11:02:35.296608Z"
    }
   },
   "cell_type": "code",
   "source": [
    "begruessung = \"hallo\"\n",
    "vorname = \"max\"\n",
    "nachname = \"mustermann\"\n",
    "print(begruessung + vorname + nachname)\n",
    "print(begruessung + \" \" + vorname + \" \" + nachname + \".\")\n",
    "print(\"\\n\")\n",
    "print(vorname.title() + nachname.title())\n",
    "print(begruessung.upper() + vorname.lower() + nachname.title())"
   ],
   "id": "a4a6745c858e93a5",
   "outputs": [
    {
     "name": "stdout",
     "output_type": "stream",
     "text": [
      "hallomaxmustermann\n",
      "hallo max mustermann.\n",
      "\n",
      "\n",
      "MaxMustermann\n",
      "HALLOmaxMustermann\n"
     ]
    }
   ],
   "execution_count": 7
  },
  {
   "metadata": {
    "ExecuteTime": {
     "end_time": "2025-02-10T11:03:28.119543Z",
     "start_time": "2025-02-10T11:03:28.116131Z"
    }
   },
   "cell_type": "code",
   "source": [
    "x = \"2\"\n",
    "y = \"5\"\n",
    "print(x + y)\n",
    "print(2 * x)\n",
    "print(2 + int(y))"
   ],
   "id": "9c9eaa8c2af7bb39",
   "outputs": [
    {
     "name": "stdout",
     "output_type": "stream",
     "text": [
      "25\n",
      "22\n",
      "7\n"
     ]
    }
   ],
   "execution_count": 10
  }
 ],
 "metadata": {
  "kernelspec": {
   "display_name": "Python 3",
   "language": "python",
   "name": "python3"
  },
  "language_info": {
   "codemirror_mode": {
    "name": "ipython",
    "version": 2
   },
   "file_extension": ".py",
   "mimetype": "text/x-python",
   "name": "python",
   "nbconvert_exporter": "python",
   "pygments_lexer": "ipython2",
   "version": "2.7.6"
  }
 },
 "nbformat": 4,
 "nbformat_minor": 5
}
