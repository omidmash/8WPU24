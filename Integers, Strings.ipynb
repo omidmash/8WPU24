{
 "cells": [
  {
   "metadata": {},
   "cell_type": "markdown",
   "source": [
    "# Strings, methods\n",
    "Methods Syntax = .method(arg)\n",
    "z.B. .upper(), .lower(), .title()"
   ],
   "id": "525cc4b80303a636"
  },
  {
   "metadata": {
    "ExecuteTime": {
     "end_time": "2025-02-17T13:39:10.630179Z",
     "start_time": "2025-02-17T13:39:10.626899Z"
    }
   },
   "cell_type": "code",
   "source": [
    "greetings = \"Hello\"\n",
    "first_name = \"max\"\n",
    "last_name = \"mustermann\"\n",
    "print(greetings + first_name + last_name)\n",
    "print(greetings + \" \" + first_name + \" \" + last_name + \".\")\n",
    "print(greetings + \" \" + first_name.title() + \" \" + last_name.title() + \".\")\n",
    "print(greetings + \" \" + first_name.upper() + \". How are you?\")"
   ],
   "id": "7a4c6831eba6106c",
   "outputs": [
    {
     "name": "stdout",
     "output_type": "stream",
     "text": [
      "Hellomaxmustermann\n",
      "Hello max mustermann.\n",
      "Hello Max Mustermann.\n",
      "Hello MAX. How are you?\n"
     ]
    }
   ],
   "execution_count": 19
  },
  {
   "metadata": {
    "ExecuteTime": {
     "end_time": "2025-02-17T13:42:06.359656Z",
     "start_time": "2025-02-17T13:42:06.357140Z"
    }
   },
   "cell_type": "code",
   "source": [
    "i = \"3\"\n",
    "j = \"2\"\n",
    "\n",
    "print(i + j)\n",
    "print(\"3\" + \"2\")\n",
    "print(2 * j)\n",
    "print(j * 3)"
   ],
   "id": "ee96775bbc5fae9b",
   "outputs": [
    {
     "name": "stdout",
     "output_type": "stream",
     "text": [
      "32\n",
      "32\n",
      "22\n",
      "222\n"
     ]
    }
   ],
   "execution_count": 26
  },
  {
   "metadata": {},
   "cell_type": "markdown",
   "source": "# Errors",
   "id": "29d2d755783f9937"
  },
  {
   "metadata": {
    "ExecuteTime": {
     "end_time": "2025-02-17T13:42:38.439566Z",
     "start_time": "2025-02-17T13:42:38.423125Z"
    }
   },
   "cell_type": "code",
   "source": [
    "i = 3\n",
    "j = \"2\"\n",
    "print(i + j)"
   ],
   "id": "2720499d920d9613",
   "outputs": [
    {
     "ename": "TypeError",
     "evalue": "unsupported operand type(s) for +: 'int' and 'str'",
     "output_type": "error",
     "traceback": [
      "\u001B[0;31m---------------------------------------------------------------------------\u001B[0m",
      "\u001B[0;31mTypeError\u001B[0m                                 Traceback (most recent call last)",
      "Cell \u001B[0;32mIn[27], line 3\u001B[0m\n\u001B[1;32m      1\u001B[0m i \u001B[38;5;241m=\u001B[39m \u001B[38;5;241m3\u001B[39m\n\u001B[1;32m      2\u001B[0m j \u001B[38;5;241m=\u001B[39m \u001B[38;5;124m\"\u001B[39m\u001B[38;5;124m2\u001B[39m\u001B[38;5;124m\"\u001B[39m\n\u001B[0;32m----> 3\u001B[0m \u001B[38;5;28mprint\u001B[39m(\u001B[43mi\u001B[49m\u001B[43m \u001B[49m\u001B[38;5;241;43m+\u001B[39;49m\u001B[43m \u001B[49m\u001B[43mj\u001B[49m)\n",
      "\u001B[0;31mTypeError\u001B[0m: unsupported operand type(s) for +: 'int' and 'str'"
     ]
    }
   ],
   "execution_count": 27
  },
  {
   "metadata": {},
   "cell_type": "markdown",
   "source": "",
   "id": "efc9ee655a1eaebc"
  },
  {
   "metadata": {
    "ExecuteTime": {
     "end_time": "2025-02-17T13:46:26.890464Z",
     "start_time": "2025-02-17T13:46:26.887832Z"
    }
   },
   "cell_type": "code",
   "source": [
    "i, j = 3, 2\n",
    "print(i + j)\n",
    "print(i - j)\n",
    "print(i * j)\n",
    "print(i / j)"
   ],
   "id": "fc5f9c6d89bff1ea",
   "outputs": [
    {
     "name": "stdout",
     "output_type": "stream",
     "text": [
      "5\n",
      "1\n",
      "6\n",
      "1.5\n"
     ]
    }
   ],
   "execution_count": 30
  },
  {
   "metadata": {
    "ExecuteTime": {
     "end_time": "2025-02-17T13:48:43.940307Z",
     "start_time": "2025-02-17T13:48:43.937646Z"
    }
   },
   "cell_type": "code",
   "source": [
    "i, j, k = 3, 2, 1\n",
    "print(i ** j + k)\n"
   ],
   "id": "4229fda679c9f2f",
   "outputs": [
    {
     "name": "stdout",
     "output_type": "stream",
     "text": [
      "10\n"
     ]
    }
   ],
   "execution_count": 31
  },
  {
   "metadata": {},
   "cell_type": "markdown",
   "source": "Function: str(arg)\n",
   "id": "e3fa5be9431f9a65"
  },
  {
   "metadata": {
    "ExecuteTime": {
     "end_time": "2025-02-17T13:49:54.338988Z",
     "start_time": "2025-02-17T13:49:54.336205Z"
    }
   },
   "cell_type": "code",
   "source": [
    "age = 20\n",
    "full_name = \"max musterMAnn\"\n",
    "\n",
    "print(\"Hello \" + full_name.title() + \". You are \" + str(age) + \" years old.\") #mit str(arg) hab ich aus ein Integer einen String gemacht."
   ],
   "id": "72b1a7e46838e49a",
   "outputs": [
    {
     "name": "stdout",
     "output_type": "stream",
     "text": [
      "Hello Max Mustermann. You are 20 years old.\n"
     ]
    }
   ],
   "execution_count": 33
  },
  {
   "metadata": {},
   "cell_type": "markdown",
   "source": "# Zen of Python",
   "id": "86a49449230ee512"
  },
  {
   "metadata": {
    "ExecuteTime": {
     "end_time": "2025-02-17T13:53:29.491336Z",
     "start_time": "2025-02-17T13:53:29.486257Z"
    }
   },
   "cell_type": "code",
   "source": "import this",
   "id": "f05ee11ee9c0b148",
   "outputs": [
    {
     "name": "stdout",
     "output_type": "stream",
     "text": [
      "The Zen of Python, by Tim Peters\n",
      "\n",
      "Beautiful is better than ugly.\n",
      "Explicit is better than implicit.\n",
      "Simple is better than complex.\n",
      "Complex is better than complicated.\n",
      "Flat is better than nested.\n",
      "Sparse is better than dense.\n",
      "Readability counts.\n",
      "Special cases aren't special enough to break the rules.\n",
      "Although practicality beats purity.\n",
      "Errors should never pass silently.\n",
      "Unless explicitly silenced.\n",
      "In the face of ambiguity, refuse the temptation to guess.\n",
      "There should be one-- and preferably only one --obvious way to do it.\n",
      "Although that way may not be obvious at first unless you're Dutch.\n",
      "Now is better than never.\n",
      "Although never is often better than *right* now.\n",
      "If the implementation is hard to explain, it's a bad idea.\n",
      "If the implementation is easy to explain, it may be a good idea.\n",
      "Namespaces are one honking great idea -- let's do more of those!\n"
     ]
    }
   ],
   "execution_count": 1
  }
 ],
 "metadata": {
  "kernelspec": {
   "display_name": "Python 3",
   "language": "python",
   "name": "python3"
  },
  "language_info": {
   "codemirror_mode": {
    "name": "ipython",
    "version": 2
   },
   "file_extension": ".py",
   "mimetype": "text/x-python",
   "name": "python",
   "nbconvert_exporter": "python",
   "pygments_lexer": "ipython2",
   "version": "2.7.6"
  }
 },
 "nbformat": 4,
 "nbformat_minor": 5
}
