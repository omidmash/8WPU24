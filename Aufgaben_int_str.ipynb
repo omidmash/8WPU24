{
 "cells": [
  {
   "metadata": {},
   "cell_type": "markdown",
   "source": "# 2-9",
   "id": "914e7c0d990c1005"
  },
  {
   "cell_type": "code",
   "id": "initial_id",
   "metadata": {
    "collapsed": true,
    "ExecuteTime": {
     "end_time": "2025-02-17T13:34:50.902644Z",
     "start_time": "2025-02-17T13:34:50.899805Z"
    }
   },
   "source": [
    "print(2 + 6)\n",
    "print(10 - 2)\n",
    "print(4 * 2)\n",
    "print(16 / 2)"
   ],
   "outputs": [
    {
     "name": "stdout",
     "output_type": "stream",
     "text": [
      "8\n",
      "8\n",
      "8\n",
      "8.0\n"
     ]
    }
   ],
   "execution_count": 6
  },
  {
   "metadata": {},
   "cell_type": "markdown",
   "source": "# 2-10",
   "id": "6afa4f09980fa93d"
  },
  {
   "metadata": {
    "ExecuteTime": {
     "end_time": "2025-02-17T13:35:13.404807Z",
     "start_time": "2025-02-17T13:35:13.401726Z"
    }
   },
   "cell_type": "code",
   "source": [
    "lieblingszahl = 42\n",
    "vorname = \"Hans\"\n",
    "nachname = \"Mueller\"\n",
    "print(\"Name: \" + vorname + \" \" + nachname)\n",
    "print(\"Lieblingszahl:\")\n",
    "print(lieblingszahl)"
   ],
   "id": "23d4aad0a7973311",
   "outputs": [
    {
     "name": "stdout",
     "output_type": "stream",
     "text": [
      "Name: Hans Mueller\n",
      "Lieblingszahl:\n",
      "42\n"
     ]
    }
   ],
   "execution_count": 7
  }
 ],
 "metadata": {
  "kernelspec": {
   "display_name": "Python 3",
   "language": "python",
   "name": "python3"
  },
  "language_info": {
   "codemirror_mode": {
    "name": "ipython",
    "version": 2
   },
   "file_extension": ".py",
   "mimetype": "text/x-python",
   "name": "python",
   "nbconvert_exporter": "python",
   "pygments_lexer": "ipython2",
   "version": "2.7.6"
  }
 },
 "nbformat": 4,
 "nbformat_minor": 5
}
