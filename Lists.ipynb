{
 "cells": [
  {
   "cell_type": "code",
   "id": "initial_id",
   "metadata": {
    "collapsed": true,
    "ExecuteTime": {
     "end_time": "2025-03-03T13:06:50.703306Z",
     "start_time": "2025-03-03T13:06:50.700517Z"
    }
   },
   "source": [
    "numbers = [1, 2, 3, 4, 5]\n",
    "print(numbers)"
   ],
   "outputs": [
    {
     "name": "stdout",
     "output_type": "stream",
     "text": [
      "[1, 2, 3, 4, 5]\n"
     ]
    }
   ],
   "execution_count": 1
  },
  {
   "metadata": {
    "ExecuteTime": {
     "end_time": "2025-03-03T13:07:40.294131Z",
     "start_time": "2025-03-03T13:07:40.292051Z"
    }
   },
   "cell_type": "code",
   "source": [
    "namen = [\"max\", \"lisa\", \"jonas\", \"marie\"]\n",
    "print(namen)"
   ],
   "id": "b5f267f8609947d4",
   "outputs": [
    {
     "name": "stdout",
     "output_type": "stream",
     "text": [
      "['max', 'lisa', 'jonas', 'marie', 1, 2]\n"
     ]
    }
   ],
   "execution_count": 3
  },
  {
   "metadata": {
    "ExecuteTime": {
     "end_time": "2025-03-03T13:08:06.589947Z",
     "start_time": "2025-03-03T13:08:06.586945Z"
    }
   },
   "cell_type": "code",
   "source": [
    "lists_in_lists = [1, 2, 3, 4, [5, 6]]\n",
    "print(lists_in_lists)"
   ],
   "id": "9ea354e82f68bd74",
   "outputs": [
    {
     "name": "stdout",
     "output_type": "stream",
     "text": [
      "[1, 2, 3, 4, [5, 6]]\n"
     ]
    }
   ],
   "execution_count": 4
  },
  {
   "metadata": {
    "ExecuteTime": {
     "end_time": "2025-03-03T13:09:32.973501Z",
     "start_time": "2025-03-03T13:09:32.971041Z"
    }
   },
   "cell_type": "code",
   "source": [
    "namen = [\"max\", \"lisa\", \"jonas\", \"marie\"]\n",
    "print(namen[0])\n",
    "print(namen[1])\n",
    "print(namen[-1])"
   ],
   "id": "137a34c58f04ae33",
   "outputs": [
    {
     "name": "stdout",
     "output_type": "stream",
     "text": [
      "max\n",
      "lisa\n",
      "marie\n"
     ]
    }
   ],
   "execution_count": 7
  },
  {
   "metadata": {},
   "cell_type": "markdown",
   "source": "Lists sind 0-Indexed",
   "id": "7568e18634b7fe2a"
  },
  {
   "metadata": {},
   "cell_type": "markdown",
   "source": "",
   "id": "155d7bfc5eccbe49"
  },
  {
   "metadata": {
    "ExecuteTime": {
     "end_time": "2025-03-03T13:10:21.057867Z",
     "start_time": "2025-03-03T13:10:21.055795Z"
    }
   },
   "cell_type": "code",
   "source": [
    "numbers = [700, 800, 8, 16]\n",
    "for number in numbers:\n",
    "    print(number + 5)"
   ],
   "id": "252a608f689186eb",
   "outputs": [
    {
     "name": "stdout",
     "output_type": "stream",
     "text": [
      "705\n",
      "805\n",
      "13\n",
      "21\n"
     ]
    }
   ],
   "execution_count": 8
  },
  {
   "metadata": {
    "ExecuteTime": {
     "end_time": "2025-03-03T13:13:16.490722Z",
     "start_time": "2025-03-03T13:13:16.479649Z"
    }
   },
   "cell_type": "code",
   "source": [
    "namen = [\"max\", \"lisa\", \"jonas\", \"marie\"]\n",
    "person1 = namen[0]\n",
    "print(person1)\n",
    "print(namen[0].title())\n",
    "print(\"Hallo \" + namen[0].title() + \". Wie geht es dir?\")\n",
    "print(\"Hallo \" + namen[2].title() + \". Wie geht es dir?\")\n",
    "print(\"Hallo \" + namen[-1].title() + \". Wie geht es dir?\")\n",
    "print(\"Hallo \" + namen[-2].title() + \". Wie geht es dir?\")\n",
    "print(\"Hallo \" + namen[-5].title() + \". Wie geht es dir?\")"
   ],
   "id": "e821b8170571c110",
   "outputs": [
    {
     "name": "stdout",
     "output_type": "stream",
     "text": [
      "max\n",
      "Max\n",
      "Hallo Max. Wie geht es dir?\n",
      "Hallo Jonas. Wie geht es dir?\n",
      "Hallo Marie. Wie geht es dir?\n",
      "Hallo Jonas. Wie geht es dir?\n"
     ]
    },
    {
     "ename": "IndexError",
     "evalue": "list index out of range",
     "output_type": "error",
     "traceback": [
      "\u001B[0;31m---------------------------------------------------------------------------\u001B[0m",
      "\u001B[0;31mIndexError\u001B[0m                                Traceback (most recent call last)",
      "Cell \u001B[0;32mIn[17], line 9\u001B[0m\n\u001B[1;32m      7\u001B[0m \u001B[38;5;28mprint\u001B[39m(\u001B[38;5;124m\"\u001B[39m\u001B[38;5;124mHallo \u001B[39m\u001B[38;5;124m\"\u001B[39m \u001B[38;5;241m+\u001B[39m namen[\u001B[38;5;241m-\u001B[39m\u001B[38;5;241m1\u001B[39m]\u001B[38;5;241m.\u001B[39mtitle() \u001B[38;5;241m+\u001B[39m \u001B[38;5;124m\"\u001B[39m\u001B[38;5;124m. Wie geht es dir?\u001B[39m\u001B[38;5;124m\"\u001B[39m)\n\u001B[1;32m      8\u001B[0m \u001B[38;5;28mprint\u001B[39m(\u001B[38;5;124m\"\u001B[39m\u001B[38;5;124mHallo \u001B[39m\u001B[38;5;124m\"\u001B[39m \u001B[38;5;241m+\u001B[39m namen[\u001B[38;5;241m-\u001B[39m\u001B[38;5;241m2\u001B[39m]\u001B[38;5;241m.\u001B[39mtitle() \u001B[38;5;241m+\u001B[39m \u001B[38;5;124m\"\u001B[39m\u001B[38;5;124m. Wie geht es dir?\u001B[39m\u001B[38;5;124m\"\u001B[39m)\n\u001B[0;32m----> 9\u001B[0m \u001B[38;5;28mprint\u001B[39m(\u001B[38;5;124m\"\u001B[39m\u001B[38;5;124mHallo \u001B[39m\u001B[38;5;124m\"\u001B[39m \u001B[38;5;241m+\u001B[39m \u001B[43mnamen\u001B[49m\u001B[43m[\u001B[49m\u001B[38;5;241;43m-\u001B[39;49m\u001B[38;5;241;43m5\u001B[39;49m\u001B[43m]\u001B[49m\u001B[38;5;241m.\u001B[39mtitle() \u001B[38;5;241m+\u001B[39m \u001B[38;5;124m\"\u001B[39m\u001B[38;5;124m. Wie geht es dir?\u001B[39m\u001B[38;5;124m\"\u001B[39m)\n",
      "\u001B[0;31mIndexError\u001B[0m: list index out of range"
     ]
    }
   ],
   "execution_count": 17
  },
  {
   "metadata": {
    "ExecuteTime": {
     "end_time": "2025-03-03T13:16:16.579945Z",
     "start_time": "2025-03-03T13:16:16.577875Z"
    }
   },
   "cell_type": "code",
   "source": [
    "pizzas = [\"margarita\", \"calzone\", \"salami\", \"marinara\"]\n",
    "print(pizzas)\n",
    "pizzas.append(\"tonno\")\n",
    "print(pizzas)\n",
    "pizzas.remove(\"calzone\")\n",
    "print(pizzas)"
   ],
   "id": "e1ce5f100c6fc73c",
   "outputs": [
    {
     "name": "stdout",
     "output_type": "stream",
     "text": [
      "['margarita', 'calzone', 'salami', 'marinara']\n",
      "['margarita', 'calzone', 'salami', 'marinara', 'tonno']\n",
      "['margarita', 'salami', 'marinara', 'tonno']\n"
     ]
    }
   ],
   "execution_count": 19
  },
  {
   "metadata": {
    "ExecuteTime": {
     "end_time": "2025-03-03T14:22:43.206963Z",
     "start_time": "2025-03-03T14:22:43.204446Z"
    }
   },
   "cell_type": "code",
   "source": [
    "fruits = ['Banana', 'Apple', 'mango']\n",
    "#print(fruits[0])\n",
    "print(\"I like \" + fruits[1].title() + \" and \" + fruits[2].title() + \".\")\n"
   ],
   "id": "577b662b287ee66c",
   "outputs": [
    {
     "name": "stdout",
     "output_type": "stream",
     "text": [
      "I like Apple and Mango.\n"
     ]
    }
   ],
   "execution_count": 8
  },
  {
   "metadata": {},
   "cell_type": "code",
   "outputs": [],
   "execution_count": null,
   "source": "",
   "id": "505d894e627ffd3a"
  }
 ],
 "metadata": {
  "kernelspec": {
   "display_name": "Python 3",
   "language": "python",
   "name": "python3"
  },
  "language_info": {
   "codemirror_mode": {
    "name": "ipython",
    "version": 2
   },
   "file_extension": ".py",
   "mimetype": "text/x-python",
   "name": "python",
   "nbconvert_exporter": "python",
   "pygments_lexer": "ipython2",
   "version": "2.7.6"
  }
 },
 "nbformat": 4,
 "nbformat_minor": 5
}
